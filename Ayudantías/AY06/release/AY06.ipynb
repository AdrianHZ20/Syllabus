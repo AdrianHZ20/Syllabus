{
 "cells": [
  {
   "cell_type": "markdown",
   "metadata": {
    "id": "B7lXO6Uzc62v"
   },
   "source": [
    "# Ayudantía 06: Programación Funcional 🏃\n",
    "\n",
    "## Ayudantes 👾\n",
    "\n",
    "Y sus recomendaciones semanales 🎵\n",
    "\n",
    "- S1: Enzo Acosta\n",
    "  - [I Will - The Beatles](https://www.youtube.com/watch?v=p-abNGP1BK4&list=RDp-abNGP1BK4&start_radio=1)\n",
    "- S2: Bastián Pérez\n",
    "  - [Loca - Chico Trujillo](https://www.youtube.com/watch?v=nyld1vl2_YQ&list=RDnyld1vl2_YQ&start_radio=1)\n",
    "- S3: Clemente Campos\n",
    "  - [La Exiliada del Sur - Inti Illimani](https://www.youtube.com/watch?v=ovy3m37aBMY&list=RDovy3m37aBMY&start_radio=1)\n",
    "- S4: Carlos Olguín\n",
    "  - [Verguenza Ajena - Macha y el bloque depresivo](https://www.youtube.com/watch?v=tmHW-ntiW1M&list=RDtmHW-ntiW1M&start_radio=1)\n",
    "- S5: Carlos Martel\n",
    "  - [Reminiscencias - Pepe Aguirre](https://www.youtube.com/watch?v=sqiGo3_MHxU&list=RDsqiGo3_MHxU&start_radio=1)\n",
    "\n",
    "Con aparición especial de:\n",
    "- Catalina Ortega (Coordinadora de Automatización)\n",
    "  - [Cómo Dejar de Amarte - Los charros de Lumaco](https://www.youtube.com/watch?v=Y9yPM_so80Y&list=RDY9yPM_so80Y&start_radio=1)\n",
    "\n",
    "## Contenidos 📖\n",
    "\n",
    "- Funciones generadoras (yield!)\n",
    "- Funciones que retornan generadores\n",
    "- Operaciones con generadores\n",
    "\n",
    "## Introducción\n",
    "\n",
    "En una galaxia muy, muy lejana...\n",
    "\n",
    "Tus esfuerzos como analísta de datos del Buró de Seguridad Imperial (ISB) rindieron sus frutos y fuiste recientemente ascendido/a a _Loyalty Officer_. Tu trabajo es simple, analizar los cientos de miles de petabytes de datos de personas recopilados por el ~~malvado~~ Imperio Galáctico para detectar así a los espías rebeldes 🔍. Por suerte, al ser tu primer día, solo deberás analizar tus primeros cien :grin:.\n",
    "\n",
    "## Ejercicio 1: Registros sospechosos ⛔️\n",
    "\n",
    "En tu primer día como _Loyalty Officer_ :necktie:, se te encomienda revisar un archivo CSV con registros de personas y reportar los que son sospechosos de ser espías rebeldes. Para esto, deberás implementar dos funciones generadoras:\n",
    "\n",
    "- Primero debes completar `leer_registros`. Esta función debe recibir la ruta de un archivo `.csv`, abrirlo y entregar (yield) cada línea como una lista donde cada posición corresponde a uno de los campos del archivo.\n",
    "- Luego, debes implementar `detectar_sospechosos`, que debe recibir la ruta del archivo con los datos y un argumento `limite` entre 0 y 100 (incluidos) que determina cuántas líneas del registro se deben procesar. Esta función debe consumir el generador entregado por `leer_registros` y retornar aquellas listas de registros sospechosos. Un registro es sospechoso si el apellido pertenece a `APELLIDOS_SOSPECHOSOS`, o si la última ubicación de la persona está en `PLANETAS_REBELDES`, o si sus puntos de lealtad son menores a 50.\n",
    "\n",
    "El archivo CSV contiene los encabezados seguidos de 100 líneas con 9 campos delimitados por comas. Cada una de estas líneas corresponde a un registro y puedes asumir que todos son correctos. Los campos son: id, nombre, apellido, año de nacimiento, planeta natal, fecha de registro, puntos de lealtad, ultima ubicación conocida."
   ]
  },
  {
   "cell_type": "code",
   "execution_count": null,
   "metadata": {
    "colab": {
     "base_uri": "https://localhost:8080/"
    },
    "executionInfo": {
     "elapsed": 76,
     "status": "ok",
     "timestamp": 1753727539658,
     "user": {
      "displayName": "CLEMENTE CAMPOS",
      "userId": "05449692516689846873"
     },
     "user_tz": 240
    },
    "id": "qlvODuG-c3r5",
    "outputId": "1b3fe704-1c02-4807-bd77-7bedee5cdc19"
   },
   "outputs": [],
   "source": [
    "from typing import Generator\n",
    "from parametros import APELLIDOS_SOSPECHOSOS, PLANETAS_REBELDES\n",
    "\n",
    "\n",
    "def leer_registros(ruta: str) -> Generator:\n",
    "    'TODO: completar'\n",
    "    pass\n",
    "\n",
    "def detectar_sospechosos(ruta: str, limite: int) -> Generator:\n",
    "    'TODO: completar'\n",
    "    pass\n",
    "            \n",
    "\n",
    "for registro in detectar_sospechosos('personas.csv', 100):\n",
    "    print(registro)"
   ]
  },
  {
   "cell_type": "markdown",
   "metadata": {
    "id": "WaG3QHrAlQzS"
   },
   "source": [
    "## Ejercicio 2: Detectando espías 👁️\n",
    "\n",
    "Ahora que ya llevas un tiempo en tu nuevo cargo y te has vuelto un experto reportando casos sospechosos, te encargan una tarea desafiante: ¡ahora deberás cruzar información para precisar qué personas corresponden a espías rebeldes!\n",
    "\n",
    "Para ayudarte en tu labor, te entregaron un segundo CSV llamado _telemetria.csv_ que posee los siguientes campos: id, visitas mundos, visitas mundos rebeldes, numero contactos sospechosos, numero desconexiones, numero infracciones.\n",
    "\n",
    "Deberás completar la función `reportar_sospechosos` que recibe la ruta de _personas.csv_ y _telemetria.csv_. Utiliza la función generadora `leer_registros` para obtener generadores con los datos, y realiza cruces de información para encontrar los espías. De primeras, se descartan las personas que no hayan visitado mundos rebeldes o cuyos puntos de lealtad sean mayores a 70. Por otro lado, se consideran espías las personas que la mayoría de sus visitas son a mundos rebeldes (`visitas_mundos_rebeldes / visitas_totales >= 0.5`) y tiene algún contacto sospechoso.\n",
    "\n",
    "Finalmente deberás generar un reporte imprimiendo en pantalla `[REPORTE ESPIAS] - IDs:` seguido de un string que contenga los ids separados por espacios. Para esto, deberás hacer uso de la función ``reduce``."
   ]
  },
  {
   "cell_type": "code",
   "execution_count": null,
   "metadata": {
    "colab": {
     "base_uri": "https://localhost:8080/"
    },
    "executionInfo": {
     "elapsed": 6,
     "status": "ok",
     "timestamp": 1753727539671,
     "user": {
      "displayName": "CLEMENTE CAMPOS",
      "userId": "05449692516689846873"
     },
     "user_tz": 240
    },
    "id": "0bUH0hLrsRk-",
    "outputId": "3988b885-62bf-4573-b798-305393f3cf15"
   },
   "outputs": [],
   "source": [
    "from functools import reduce\n",
    "\n",
    "def reportar_sospechosos(ruta_personas: str, ruta_telemetria: str) -> None:\n",
    "    'TODO: completar'\n",
    "\n",
    "    # Filtrar los registros que no cumplen los criterios para ser descartados\n",
    "\n",
    "    # Encontrar los espías entre los registros no descartados\n",
    "\n",
    "    # Generar el reporte\n",
    "    \n",
    "    pass\n",
    "\n",
    "reportar_sospechosos('personas.csv', 'telemetria.csv')"
   ]
  },
  {
   "cell_type": "markdown",
   "metadata": {
    "id": "k1VJ-Ne0spmN"
   },
   "source": [
    "## Ejercicio 3: Yo soy el espía 🗿\n",
    "\n",
    "\n",
    "Tras meses trabajando para el imperio, finalmente llegó el momento de que se revele la verdad, el momento de  ejecutar el plan maestro :open_mouth:. Resulta que todo este tiempo eras un espía rebelde infiltrado en las oficinas del imperio, y para proteger a los habitantes de la galaxia debes alterar cuidadosamente la información de los registros. Para cada persona, deberás cambiar su información de planeta natal y última ubicación, manteniendo el resto de los campos iguales para no levantar sospechas.\n",
    "\n",
    "Deberás completar las funciones `mezcla` y `mezclar_registro` de la siguiente manera:\n",
    "* mezcla: Toma una fila (lista con los campos de una persona). Debe devolver la fila reconstruida como string CSV donde los índices 4 y 7 (planeta natal y última ubicación) han sido reemplazados por una pareja de planetas elegida aleatoriamente. Esa pareja debe obtenerse de las combinaciones (pares) posibles entre todos los planetas (precomputadas). Para cada fila, se debe elegir una sola pareja y usar sus elementos en las posiciones 4 y 7 respectivamente.\n",
    "\n",
    "* mezclar_registro: Debe iterar las filas del CSV original y devolver las filas ya mezcladas."
   ]
  },
  {
   "cell_type": "code",
   "execution_count": null,
   "metadata": {
    "colab": {
     "base_uri": "https://localhost:8080/"
    },
    "executionInfo": {
     "elapsed": 3,
     "status": "ok",
     "timestamp": 1753727539671,
     "user": {
      "displayName": "CLEMENTE CAMPOS",
      "userId": "05449692516689846873"
     },
     "user_tz": 240
    },
    "id": "PdTGoR6psvSR",
    "outputId": "9d07b026-d534-455b-e9b8-2053087c8bd7"
   },
   "outputs": [],
   "source": [
    "from itertools import combinations\n",
    "from functools import reduce\n",
    "from random import choice\n",
    "\n",
    "# Obtenemos todos los planetas de forma única con un set por compresión\n",
    "def planetas() -> set[str]:\n",
    "    registros = leer_registros('personas.csv')\n",
    "    return {fila[4] for fila in registros} | {fila[7] for fila in registros}\n",
    "\n",
    "# Generamos las posibles combinaciones de pares de planetas\n",
    "combinaciones = combinations(planetas(), 2)\n",
    "lista_combinaciones = [combinacion for combinacion in combinaciones]\n",
    "\n",
    "# Elegimos un par de planetas aleatoriamente y los cambiamos\n",
    "def mezcla(fila: list[str]) -> str:\n",
    "    'TODO: completar'\n",
    "    pass\n",
    "\n",
    "# Mezclamos todos los registros\n",
    "def mezclar_registro() -> map:\n",
    "    'TODO: completar'\n",
    "    pass\n",
    "\n",
    "# Guardamos los registros en un archivo\n",
    "def guardar_registro() -> None:\n",
    "    with open('personas_nuevo.csv', 'w', encoding='utf-8') as file:\n",
    "        file.write('id,nombre,apellido,año de nacimiento,planeta natal,fecha de registro,puntos de lealtad,ultima ubicación conocida\\n')\n",
    "        for fila in mezclar_registro():\n",
    "            file.write(fila + '\\n')\n",
    "            print(fila)\n",
    "\n",
    "\n",
    "guardar_registro()"
   ]
  },
  {
   "cell_type": "markdown",
   "metadata": {},
   "source": [
    "# Pregunta 🤔\n",
    "\n",
    "![pregunta](pregunta.png)"
   ]
  },
  {
   "cell_type": "code",
   "execution_count": null,
   "metadata": {},
   "outputs": [],
   "source": [
    "from functools import reduce\n",
    "\n",
    "var = reduce(lambda acumulado, x: f'{acumulado}, {x}', '1234', 0)\n",
    "# print(var)"
   ]
  }
 ],
 "metadata": {
  "colab": {
   "authorship_tag": "ABX9TyN7IyZtZRZTfn5a4b5nBu5L",
   "provenance": []
  },
  "kernelspec": {
   "display_name": "Python 3",
   "name": "python3"
  },
  "language_info": {
   "codemirror_mode": {
    "name": "ipython",
    "version": 3
   },
   "file_extension": ".py",
   "mimetype": "text/x-python",
   "name": "python",
   "nbconvert_exporter": "python",
   "pygments_lexer": "ipython3",
   "version": "3.12.9"
  }
 },
 "nbformat": 4,
 "nbformat_minor": 0
}
