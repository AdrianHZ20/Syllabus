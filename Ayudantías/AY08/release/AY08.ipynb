{
  "cells": [
    {
      "cell_type": "markdown",
      "metadata": {
        "id": "B7lXO6Uzc62v"
      },
      "source": [
        "# Ayudantía 08: IG 1 💯\n",
        "\n",
        "## Ayudantes 👾\n",
        "\n",
        "Y sus recomendaciones semanales 🎵\n",
        "\n",
        "- S1: Enzo Acosta\n",
        "  - [Years Roll By - Vansire, MUNYA, JORDANN](https://www.youtube.com/watch?v=0xIsOt9OHdw)\n",
        "- S2: Bastián Pérez\n",
        "  - [Piano Man - Billy Joel](https://www.youtube.com/watch?v=gxEPV4kolz0)\n",
        "- S3: Clemente Campos\n",
        "  - [Bow Down - Geese](https://www.youtube.com/watch?v=HMKrmLcA0VQ)\n",
        "- S4: Carlos Olguín\n",
        "  - [One of Us - Liam Gallagher](https://www.youtube.com/watch?v=V3mhhT3c7oY)\n",
        "- S5: Carlos Martel\n",
        "  - [The Kid I Used To Know - Arrested Youth](https://www.youtube.com/watch?v=LpC74FTLWFg&list=RDLpC74FTLWFg&start_radio=1)\n",
        "\n",
        "Con aparición especial de:\n",
        "- Ale (Coordinador General)\n",
        "  - [The Vow - Ed Sheeran](https://www.youtube.com/watch?v=GWaTI0AINMc)\n",
        "- Daniela Concha\n",
        "  - [Starlight Brigade - TWRP](https://www.youtube.com/watch?v=J9Q3i5w6-Ug&list=RDJ9Q3i5w6-Ug&start_radio=1)\n",
        "\n",
        "## Contenidos 📖\n",
        "\n",
        "- Interfaces gráficas y sus elementos básicos\n",
        "- Eventos y señales\n",
        "- Diseño front-end y back-end\n",
        "- Conexiones\n"
      ]
    },
    {
      "cell_type": "markdown",
      "metadata": {},
      "source": [
        "## MultiMedia-House"
      ]
    },
    {
      "cell_type": "markdown",
      "metadata": {},
      "source": [
        "🎉 ¡Sorpresa! Te encuentras en tu escritorio 🧑‍💻, concentrado en tus deberes y revisando los contenidos del curso de Programación Avanzada —como buen estudiante aplicado— cuando de pronto recibes un correo inesperado ✉️.\n",
        "\n",
        "Lo abres con curiosidad y descubres que te están contratando para desarrollar y mejorar diversas funcionalidades de un simulador gráfico de una casa inteligente 🏡💡. Al principio te invade una mezcla de sorpresa y nerviosismo 😳: no todos los días se recibe una propuesta así; sin embargo, rápidamente recuerdas que en clases has estado aprendiendo sobre interfaces gráficas, arquitecturas front-end y patrones de diseño.\n",
        "\n",
        "Tu misión será completar las diversas funciones presentadas y expandir según lo solicitado. ¡Buena suerte!"
      ]
    },
    {
      "cell_type": "markdown",
      "metadata": {},
      "source": [
        "Para esto deberás completar `main.py` y métodos de las clases del `frontend` y el `backend`. El archivo **ventanas.py** en **frontend/** contiene todas las ventanas, widgets y recursos asociados al aspecto gráfico del simulador, mientras que **logica.py** del **backend/** tiene la lógica asociada al simulador. Finalmente, el archivo **main.py** se encarga de inicializar las clases del programa y establecer la conexión entre el `frontend` y el `backend`.\n",
        "\n",
        "- En `frontend`:\n",
        "    - En la clase `Inicio`, la cual representa la ventana de inicio, deberás completar su `__init__`, donde deberás inicializar y añadir a un layout bien definido los elementos:\n",
        "        - Establecer el título de la ventana a \"Inicio de la Casa\".\n",
        "        - En un layout vertical (`self.layout`), deberás añadir:\n",
        "        - Un **QLabel** (`label_input`) que indique al usuario que debe ingresar la contraseña de su hogar.\n",
        "        - Un **QLineEdit** (`input`) para que el usuario pueda escribir su contraseña.\n",
        "        - Un **QPushButton** (`boton_contrasena`) con el texto `\"Establecer Nueva Contraseña\"`, el cual servirá para confirmar la acción.\n",
        "        - Además, deberás aplicar estilos básicos con `setStyleSheet`, asegurando que el texto de los widgets sea claramente visible (por ejemplo, con `font-size: 26px` o `28px`).\n",
        "        - Finalmente, deberás establecer el layout de la ventana con `self.setLayout(self.layout)`.\n",
        "\n",
        "    - En esta misma clase deberás completar la función `establecer_contrasena`, que está asociada al **botón_contraseña**. En esta función se debe recibir un texto como input: en caso de recibir texto, emitir la señal **senal_nueva_contrasena**, ocultar el botón y emitir la **senal_ir_entrada**; en caso de no recibir nada, se deberá mostrar en el **label_input** el mensaje \"La contraseña no puede estar vacía.\".\n",
        "\n",
        "    - En la clase `Entrada`, que representa la ventana de entrada de la casa, deberás completar la lógica asociada a dos eventos. Para el primero, `mousePressEvent`, deberás obtener las coordenadas del clic (`x`, `y`): si el clic ocurre **dentro del área de la puerta** (entre los rangos `x in range(395, 620)` y `y in range(560, 905)`), mostrar el `label_contrasena` y el `input_contrasena` para que el usuario pueda escribir; si el clic ocurre **fuera de esa zona**, ocultar ambos (`label_contrasena` y `input_contrasena`).\n",
        "\n",
        "    - Por otro lado, para `keyPressEvent` deberás detectar si la tecla presionada corresponde a **Enter** (`event.key() == Qt.Key_Return` o `16777220`). Si es Enter: obtén el texto del `input_contrasena`. Si el texto **no está vacío**, emite la señal **emitir_contrasena.emit** con el input como argumento; si el texto **está vacío**, cambia el texto del `label_contrasena` a \"La contraseña no puede estar vacía. Intenta de nuevo.\".\n",
        "\n",
        "- En `backend`:\n",
        "    - En la clase `Procesador`, la cual representa la lógica del simulador, deberás completar la función **verificar_acceso**, en la cual, dado un input de parámetro que te llegará (la contraseña), deberás verificar si coincide con la **self.contraseña** actual. Si coinciden, deberás emitir la señal **senal_puede_entrar** con el parámetro **True**, en caso contrario, deberás emitirla con el parámetro **False**\n",
        "\n",
        "- En `main.py`:\n",
        "    - Deberás encargarte de **crear las instancias** de todas las ventanas y del **procesador** (backend), además de conectar correctamente las señales entre ellas.\n",
        "    - Luego, deberás **conectar las señales entre el frontend y el backend** para asegurar la comunicación correcta entre ellos:\n",
        "      - `inicio.senal_nueva_contrasena.connect(procesador.nueva_contrasena)` \n",
        "      - `inicio.senal_ir_entrada.connect(entrada.show)` \n",
        "      - `entrada.senal_emitir_contrasena.connect(procesador.verificar_acceso)` \n",
        "      - `procesador.senal_puede_entrar.connect(entrada.recibir_verificacion)` \n",
        "      - `entrada.senal_ir_living.connect(living.abrir_ventana)`\n",
        "      - `living.senal_volver_entrada.connect(entrada.abrir_ventana)`\n",
        "    - Finalmente, deberás **mostrar la ventana inicial** para comenzar el programa."
      ]
    },
    {
      "cell_type": "markdown",
      "metadata": {},
      "source": []
    }
  ],
  "metadata": {
    "colab": {
      "provenance": []
    },
    "kernelspec": {
      "display_name": "Python 3",
      "name": "python3"
    },
    "language_info": {
      "codemirror_mode": {
        "name": "ipython",
        "version": 3
      },
      "file_extension": ".py",
      "mimetype": "text/x-python",
      "name": "python",
      "nbconvert_exporter": "python",
      "pygments_lexer": "ipython3",
      "version": "3.12.9"
    }
  },
  "nbformat": 4,
  "nbformat_minor": 0
}
