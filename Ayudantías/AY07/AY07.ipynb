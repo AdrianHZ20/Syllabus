{
  "cells": [
    {
      "cell_type": "markdown",
      "metadata": {
        "id": "B7lXO6Uzc62v"
      },
      "source": [
        "# Ayudantía 07: Repaso Midterm 🤓\n",
        "\n",
        "## Ayudantes 👾\n",
        "\n",
        "Y sus recomendaciones semanales 🎵\n",
        "\n",
        "- S1: Enzo Acosta\n",
        "  - [Flemme - Angèle](https://www.youtube.com/watch?v=AH13izmP4fM&list=RDAH13izmP4fM&start_radio=1)\n",
        "- S2: Bastián Pérez\n",
        "  - [Hotel California - Eagles](https://www.youtube.com/watch?v=dLl4PZtxia8&list=RDdLl4PZtxia8&start_radio=1)\n",
        "- S3: Clemente Campos\n",
        "  - [fangs - adrianne lenker](https://www.youtube.com/watch?v=05McRyAA2a0&list=RD05McRyAA2a0&start_radio=1)\n",
        "- S4: Carlos Olguín\n",
        "  - [The Gates - Twin Suns](https://www.youtube.com/watch?v=xq1hmfcUj6c&list=RDxq1hmfcUj6c&start_radio=1)\n",
        "- S5: Carlos Martel\n",
        "  - [Somewhere I Belong - Linkin Park](https://www.youtube.com/watch?v=zsCD5XCu6CM&list=RDzsCD5XCu6CM&start_radio=1)\n",
        "\n",
        "## Contenidos 📖\n",
        "\n",
        "- Git\n",
        "- EDD's\n",
        "- OOP Avanzado\n",
        "- Iterables / Iteradores\n",
        "- Listas Ligadas\n",
        "- Generadores\n",
        "- Excepciones\n"
      ]
    },
    {
      "cell_type": "markdown",
      "metadata": {},
      "source": [
        "# Git\n",
        "\n",
        "Git es un sistema distribuido de control de versiones ampliamente utilizado en el mundo del desarrollo de software. Nos permite conectar los archivos en nuestro computador local con los guardados en la nube (GitHub). Los siguientes comandos son los más importantes para el curso:\n",
        "\n",
        "- `git clone`: sirve para clonar completamente un repositorio de GitHub (**repositorio remoto**) a tu computador local (**repositorio local**). Es el equivalente de \"descargar\" todos los archivos.\n",
        "- `git pull`: habiendo ya clonado un repositorio, si es que hay cambios en el repositorio remoto que no están en tu repositorio local, este comando se usa para actualizar el local.\n",
        "- `git add`: añade archivos a lista de cambios. Se le puede especificar el archivo `git add archivo.py` o añadir todo lo que está en la ruta hacia abajo `git add .`.\n",
        "- `git commit`: recopila todos los cambios hechos últimamente (con el comando anterior) y los guarda en un **commit** en el repositorio local, que es algo así como una versión del repositorio.\n",
        "- `git push`: recopila todas los **commits** del repositorio local y los sube al repositorio remoto."
      ]
    },
    {
      "cell_type": "markdown",
      "metadata": {},
      "source": [
        "# Estructuras de datos\n",
        "\n",
        "Las podemos separar en dos tipos:\n",
        "\n",
        "- **Secuenciales**: se guardan en memoria una al lado del otro (ordenadas), es decir\n",
        "podemos acceder a los datos por indice (`lista[i]`), tenemos: tuplas, listas, colas,\n",
        "stacks, namedtuples.\n",
        "- **No Secuenciales**: no se guardan lado a lado en memoria y por lo tanto no son indexables, tenemos: diccionarios, sets.\n",
        "\n",
        "Detalle de estructuras de datos:\n",
        "- **Tuplas**: inmutables, una vez creadas no es posible modificarlas, se utilizan preferentemente para persistencia de datos\n",
        "- **Listas**: mutables, puedes añadir y remover objetos.\n",
        "- **Stacks**: el último elemento en entrar es el primero en salir (LIFO).\n",
        "- **Colas**: el primer elemento en entrar es el primero en salir (FIFO).\n",
        "- **Diccionarios**: guarda información de la forma llave: valor. Permiten acceso rápido por llave. Muy útiles para organizar datos por identificadores. El diccionario permite utilizar como llaves los siguientes objetos inmutables: `int`, `float`, `str`, `bool`, `tuple`(siempre que todos sus elementos también sean inmutables).\n",
        "- **Sets**: funcionan como conjuntos matemáticos y es muy eficiente para determinar si un elemento está o no en el conjunto. El tipo de elementos que pueden almacenar tiene las mismas restricciones que para las llaves de un diccionario.\n",
        "- **Namedtuples**: similar a una tupla, pero permite acceder a los valores por nombre de atributo (`namedtupla.valor`) además de por índice, mejorando la legibilidad."
      ]
    },
    {
      "cell_type": "code",
      "execution_count": 1,
      "metadata": {},
      "outputs": [
        {
          "ename": "TypeError",
          "evalue": "unhashable type: 'list'",
          "output_type": "error",
          "traceback": [
            "\u001b[31m---------------------------------------------------------------------------\u001b[39m",
            "\u001b[31mTypeError\u001b[39m                                 Traceback (most recent call last)",
            "\u001b[36mCell\u001b[39m\u001b[36m \u001b[39m\u001b[32mIn[1]\u001b[39m\u001b[32m, line 2\u001b[39m\n\u001b[32m      1\u001b[39m \u001b[38;5;66;03m# no podemos tener llaves que dentro suyo tengan elementos mutables\u001b[39;00m\n\u001b[32m----> \u001b[39m\u001b[32m2\u001b[39m diccionario = {(\u001b[32m1\u001b[39m, \u001b[32m2\u001b[39m, \u001b[32m3\u001b[39m, []): \u001b[32m5\u001b[39m, \u001b[33m\"\u001b[39m\u001b[33mllave_2\u001b[39m\u001b[33m\"\u001b[39m: \u001b[32m10\u001b[39m}\n",
            "\u001b[31mTypeError\u001b[39m: unhashable type: 'list'"
          ]
        }
      ],
      "source": [
        "# no podemos tener llaves que dentro suyo tengan elementos mutables\n",
        "diccionario = {(1, 2, 3, []): 5, \"llave_2\": 10}"
      ]
    },
    {
      "cell_type": "code",
      "execution_count": null,
      "metadata": {},
      "outputs": [
        {
          "name": "stdout",
          "output_type": "stream",
          "text": [
            "10\n",
            "5\n"
          ]
        }
      ],
      "source": [
        "diccionario = {(1, 2, 3): 5, \"llave_2\": 10}\n",
        "\n",
        "# el acceso por llave al diccionario es con []\n",
        "print(diccionario[\"llave_2\"])\n",
        "print(diccionario[(1, 2, 3)])"
      ]
    },
    {
      "cell_type": "markdown",
      "metadata": {},
      "source": [
        "# *args y **kwargs\n",
        "\n",
        "- **\\*args**: se usa para pasar un número variable de argumentos posicionales a una función. Los valores se reciben como una tupla.\n",
        "- **\\*\\*kwargs**: se usa para pasar un número variable de argumentos por palabra clave a una función. Los valores se reciben como un diccionario.\n",
        "- **Uso combinado**: es posible combinar ambos para mayor flexibilidad en la definición de funciones, respetando el orden: *args primero y **kwargs después. Adicionalmente **kwargs, siempre debe ir al final de todo.\n",
        "- **Desempaquetado**: se usa * y ** para desempaquetar listas/tuplas y diccionarios (respectivamente) al llamar funciones.\n"
      ]
    },
    {
      "cell_type": "code",
      "execution_count": null,
      "metadata": {},
      "outputs": [
        {
          "name": "stdout",
          "output_type": "stream",
          "text": [
            "hola - gente\n",
            "hola - gente\n",
            "hola - gente\n",
            "hola - gente\n"
          ]
        }
      ],
      "source": [
        "def foo(a, b):\n",
        "    print(f\"{a} - {b}\")\n",
        "\n",
        "lista = [\"hola\", \"gente\"]\n",
        "diccionario = {\"a\": \"hola\", \"b\": \"gente\"}\n",
        "\n",
        "# estos llamados son equivalentes\n",
        "foo(\"hola\", \"gente\")\n",
        "foo(b=\"gente\", a=\"hola\")\n",
        "foo(*lista)\n",
        "foo(**diccionario)"
      ]
    },
    {
      "cell_type": "markdown",
      "metadata": {},
      "source": [
        "# OOP Avanzado\n",
        "\n",
        "Las principales características a entender son:\n",
        "\n",
        "- Herencia: permite a una clase hija heredar de una clase padre tanto métodos como atributos. Es importante recalcar el orden al heredar y el uso de `super()` para entender la herencia.\n",
        "- Clases Abstractas : clases destinadas a servir como **molde** para clases hijas, estas heredan de la clase **ABC** y no están pensadas para ser instanciadas. Pueden contener métodos abstractos, los cuales se definen con el decorador `@abstractmethod`.\n",
        "- Properties: son métodos que permiten personalizar aun mas el como se manipulan atributos de una clase, se dividen en dos:\n",
        "    - **getter** : permite acceder al atributo ya sea privado o no.\n",
        "    - **setter** : permite control adicional sobre la asignación del atributo, permitiendo control en el rango del valor de este, manejo de excepciones y en general un control avanzado.\n",
        "\n"
      ]
    },
    {
      "cell_type": "code",
      "execution_count": null,
      "metadata": {},
      "outputs": [
        {
          "name": "stdout",
          "output_type": "stream",
          "text": [
            "Clase D!\n",
            "Clase B!\n",
            "Clase C!\n",
            "Clase A!\n"
          ]
        }
      ],
      "source": [
        "\n",
        "class ClaseA:\n",
        "    def imprime(self):\n",
        "        print(\"Clase A!\")\n",
        "\n",
        "class ClaseB(ClaseA):\n",
        "    def imprime(self):\n",
        "        print(\"Clase B!\")\n",
        "        super().imprime()\n",
        "\n",
        "class ClaseC(ClaseA):\n",
        "    def imprime(self):\n",
        "        print(\"Clase C!\")\n",
        "        super().imprime()\n",
        "\n",
        "# trata cambiando ClaseB y ClaseC de lugar\n",
        "class ClaseD(ClaseB, ClaseC):\n",
        "    def imprime(self):\n",
        "        print(\"Clase D!\")\n",
        "        super().imprime()\n",
        "\n",
        "# veamos en qué orden imprime. \n",
        "instancia = ClaseD()\n",
        "instancia.imprime()\n"
      ]
    },
    {
      "cell_type": "markdown",
      "metadata": {},
      "source": [
        "# Iterables/Iteradores\n",
        "\n",
        "Un **iterable** es un objeto que contiene una colección de elementos y puede ser recorrido mediante un ciclo for.\n",
        "- **Debe** implementar el metodo `__iter__()` el cual retorna un **iterador**.\n",
        "- Cada vez que se recorren se crea un nuevo iterador.\n",
        "- **Ejemplos**: listas, tuplas, sets, diccionarios, strings.\n",
        "\n",
        "Un **iterador** es un objeto que permite recorrer un iterable.\n",
        "- **Debe** implementar el método `__next__()` que entrega el siguiente elemento, y en caso de terminar la iteración levanta la excepción `StopIteration`.\n",
        "- Se devuelve a sí mismo (`self`) en el método `__iter__()`.\n",
        "- Puede ser recorrido, pero generalmente se consume."
      ]
    },
    {
      "cell_type": "markdown",
      "metadata": {},
      "source": [
        "# Generadores\n",
        "Los generadores son iterables de un solo uso. Se pueden recorrer en un ciclo `for` y usando el método `next`. Son mucho más eficientes en memoria que una lista o tupla, y se pueden generar por comprensión."
      ]
    },
    {
      "cell_type": "code",
      "execution_count": null,
      "metadata": {},
      "outputs": [
        {
          "name": "stdout",
          "output_type": "stream",
          "text": [
            "Bytes del generador: 200\n",
            "Bytes de la lista: 85176\n"
          ]
        }
      ],
      "source": [
        "from sys import getsizeof\n",
        "\n",
        "generador_pares = (2 * i for i in range(10**4))\n",
        "lista_pares = [2 * i for i in range(10**4)]\n",
        "\n",
        "print(\"Bytes del generador:\", getsizeof(generador_pares))\n",
        "print(\"Bytes de la lista:\", getsizeof(lista_pares))"
      ]
    },
    {
      "cell_type": "markdown",
      "metadata": {},
      "source": [
        "# Listas Ligadas\n",
        "Las listas ligadas son una EDD ampliamente usada, principalmente en lenguajes de programación donde no existe la posibilidad nativa de crear una lista de largo variable. Para modelarlas en python, usamos las siguientes clases:\n",
        "\n",
        "- `Nodo`: modela un elemento de la lista ligada. Contiene un valor y un atributo `siguiente`, que contiene al siguiente nodo en la lista, o `None` en el caso de estar al final.\n",
        "- `ListaLigada`: representa a una lista ligada. Contiene una `cabeza` que representa al primer elemento de la lista, y puede tener una `cola`, que representa al último elemento."
      ]
    },
    {
      "cell_type": "markdown",
      "metadata": {},
      "source": [
        "# Excepciones\n",
        "\n",
        "Las excepciones son errores en Python. Son útiles para debuggear nuestro código y para avisarle a algún posible usuario de que su código es inválido.\n",
        "\n",
        "- `raise`: se utiliza para levantar manualmente excepciones, interrumpiendo el flujo del programa. Se pueden emplear excepciones predefinidas o personalizadas.\n",
        "- `try/except`: permite manejar excepciones de forma controlada. El bloque `try` intenta ejecutar un conjunto de instrucciones y si ocurre una excepción de cierto tipo, el código salta al bloque `except`. Se puede capturar más de una excepción o indicar comportamiento distinto para distintas excepciones.\n",
        "- `else`: va despúes del `except` (opcionalmente), y se ejecuta si es que no se captura ninguna excepción.\n",
        "- `finally`: va al final, y se ejecuta **siempre**, aunque se haya capturado un error o no. Puede ser útil para hacer cosas como cerrar un archivo."
      ]
    },
    {
      "cell_type": "markdown",
      "metadata": {},
      "source": [
        "## Ejercicios"
      ]
    },
    {
      "cell_type": "markdown",
      "metadata": {},
      "source": [
        "![3](preguntas/p_3_midterm_2025_1.png)"
      ]
    },
    {
      "cell_type": "markdown",
      "metadata": {},
      "source": [
        "![7](preguntas/p_7_midterm_2025_1.png)"
      ]
    },
    {
      "cell_type": "markdown",
      "metadata": {},
      "source": [
        "![8](preguntas/p_8_midterm_2025_1.png)"
      ]
    },
    {
      "cell_type": "markdown",
      "metadata": {},
      "source": [
        "![3](preguntas/p_3_midterm_2024_2.png)"
      ]
    },
    {
      "cell_type": "code",
      "execution_count": null,
      "metadata": {},
      "outputs": [],
      "source": [
        "# print(*['valor 1', 'valor 2', 10, True])\n",
        "# datos_1 = {*('a', 1), *('b', 2)}\n",
        "# datos_2 = [*(1, 2), 4, 5]\n",
        "# datos_3 = {**{'a': 1, 'b': 2}, **{'c': 3}}\n",
        "# datos_4 = **{'a': 1, 'b': 2, 'c': 3}\n",
        "\n",
        "# print(datos_1)\n",
        "# print(datos_2)\n",
        "# print(datos_3)\n",
        "# print(datos_4)"
      ]
    },
    {
      "cell_type": "markdown",
      "metadata": {},
      "source": [
        "![4](preguntas/p_4_midterm_2024_2.png)"
      ]
    },
    {
      "cell_type": "markdown",
      "metadata": {},
      "source": [
        "![11](preguntas/p_11_midterm_2025_1.png)"
      ]
    },
    {
      "cell_type": "markdown",
      "metadata": {},
      "source": [
        "![7](preguntas/p_7_midterm_2024_1.png)\n"
      ]
    },
    {
      "cell_type": "markdown",
      "metadata": {},
      "source": [
        "![14](preguntas/p_14_midterm_2024_2.png)\n"
      ]
    },
    {
      "cell_type": "markdown",
      "metadata": {},
      "source": [
        "![20](preguntas/p_20_midterm_2025_1.png)\n"
      ]
    },
    {
      "cell_type": "markdown",
      "metadata": {},
      "source": [
        "Respuestas:\n",
        "\n",
        "- B\n",
        "- B\n",
        "- C\n",
        "- E\n",
        "- C\n",
        "- A\n",
        "- C\n",
        "- C\n",
        "- A"
      ]
    }
  ],
  "metadata": {
    "colab": {
      "provenance": []
    },
    "kernelspec": {
      "display_name": "Python 3",
      "name": "python3"
    },
    "language_info": {
      "codemirror_mode": {
        "name": "ipython",
        "version": 3
      },
      "file_extension": ".py",
      "mimetype": "text/x-python",
      "name": "python",
      "nbconvert_exporter": "python",
      "pygments_lexer": "ipython3",
      "version": "3.12.9"
    }
  },
  "nbformat": 4,
  "nbformat_minor": 0
}
